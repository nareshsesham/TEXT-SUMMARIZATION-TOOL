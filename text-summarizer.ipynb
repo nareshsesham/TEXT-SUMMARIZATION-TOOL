class TextSummarizer:

    # ChatGPT model that we will be using everywhere
    openai_model = "gpt-3.5-turbo"


    # Constructor    
    def __init__(self):
        self.apikey = self.fetch_api_key()


    # Method to get API key
    def fetch_api_key(self):
        # In here would be all the code required to fetch the api key ...
        return os.environ.get("OPENAI_API_KEY")


    # Method to take list of sentences and return summarized/average single sentence
    def average_sentences(self, list_of_sentences):
        # Instantiate the client
        client = OpenAI(api_key=self.apikey)

        # Write prompt to chatGPT to execute our task
        prompt = "Here is a list of multiple sentences that I want you to summarize and rewrite as a single sentence that is roughly the same length as the input sentences. The sentences are separated by newline characters \n as follows: {sentences}"
        prompt = prompt.format(sentences = "\n".join(list_of_sentences))

        # Make request to chat GPT
        completion = client.chat.completions.create(
            model=self.openai_model,
            messages=[
                {"role": "system", "content": "You are an assistant that is able to read several sentences and then combine them into a single summarized sentence. The sentences will be sent to you with a newline character \n separating them. You will return a single sentence."},
                {"role": "user", "content": prompt}
            ]
        )

        # Get the summarized sentence output from Chat GPT
        summarized_sentence = completion.choices[0].message.content

        # Close the client
        client.close()

        return summarized_sentence

    # Method to summarize a piece of text
    def summarize_text(self, input_text):
        # Instantiate the client
        client = OpenAI(api_key=self.apikey)


        # Make request to chat GPT
        completion = client.chat.completions.create(
            model=self.openai_model,
            messages=[
                {"role": "system", "content": "You are an assistant that is able to read a piece of text and summarize it. Your summary will be 10 sentences or less."},
                {"role": "user", "content": "Here is the text to be summarized below the newline character.\n {text}".format(text=input_text)}
            ]
        )

        # Get the summary of the inptu text output from Chat GPT
        summary_output = completion.choices[0].message.content

        # Close the client
        client.close()

        return summary_output        


    # Method to consolidated job titles
    def consolidate_job_titles(self, job_titles):
        # Instantiate the client
        client = OpenAI(api_key=self.apikey)

        # Write prompt
        prompt = "Here is the list of job titles separated by newline characters \n for you to combine and consolidate down into a single job title that represents the entire list. \n {list_of_titles}"
        prompt = prompt.format(list_of_titles = job_titles)

        # Make request to chat GPT
        completion = client.chat.completions.create(
            model=self.openai_model,
            messages=[
                {"role": "system", "content": "You are an assistant that can read a list of job titles which are all the same job title but are written slightly differently with different variations and possibly with typos. You are an expert at reading the list of job titles (with all their variations) and returning back a single job title that represents the entire input group."},
                {"role": "user", "content": prompt}
            ]
        )

        # Get the summary of the inptu text output from Chat GPT
        consolidated_job_title = completion.choices[0].message.content

        # Close the client
        client.close()

        return consolidated_job_title     
